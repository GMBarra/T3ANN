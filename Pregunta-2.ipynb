{
  "nbformat": 4,
  "nbformat_minor": 0,
  "metadata": {
    "colab": {
      "name": "T3_parte2.ipynb",
      "version": "0.3.2",
      "provenance": []
    },
    "kernelspec": {
      "display_name": "Python 3",
      "language": "python",
      "name": "python3"
    },
    "accelerator": "GPU"
  },
  "cells": [
    {
      "metadata": {
        "id": "nyYA2na3p7_J",
        "colab_type": "text"
      },
      "cell_type": "markdown",
      "source": [
        "<img src=\"http://www.exalumnos.usm.cl/wp-content/uploads/2015/06/Isotipo-Negro.gif\" title=\"Title text\" width=\"20%\" height=\"20%\" />\n",
        "\n",
        "\n",
        "<hr style=\"height:2px;border:none\"/>\n",
        "<h1 align='center'> INF-395/477 Redes Neuronales Artificiales I-2018 </h1>\n",
        "\n",
        "<H3 align='center'> Tarea 3 - Aplicaciones de Redes Neuronales </H3>\n",
        "<hr style=\"height:2px;border:none\"/>\n",
        "\n",
        "**Temas**  \n",
        "* Modelos Generativos profundos: VAE (*Variational Autoencoder*) y GAN (*Generative Adversarial Network*).\n",
        "* Arquitectura encoder-decoder y mecanismo de antención.\n",
        "* Desafío en donde se aplique todo lo aprendido.\n",
        " \n",
        "\n",
        "** Formalidades **  \n",
        "* Equipos de trabajo de: 2 personas (*cada uno debe estar en condiciones de realizar una presentación y discutir sobre cada punto del trabajo realizado*)\n",
        "* Se debe preparar una presentación de 20 minutos. Presentador será elegido aleatoriamente.\n",
        "* Se debe preparar un (breve) Jupyter/IPython notebook que explique la actividad realizada y las conclusiones del trabajo\n",
        "* Fecha de entrega y discusión: -\n",
        "* Formato de entrega: envı́o de link Github al correo electrónico del ayudante (*<francisco.mena.13@sansano.usm.cl>*) , incluyendo al profesor en copia (*<jnancu@inf.utfsm.cl>*). Por favor especificar el siguiente asunto: [Tarea3-INF395-I-2018]\n",
        "\n",
        "<hr style=\"height:2px;border:none\"/>\n",
        "\n",
        "La tarea se divide en secciones:\n",
        "\n",
        "[1.](#primero) Modelos Generativos  \n",
        "[2.](#segundo) *Question-Answering*  \n",
        "[3.](#tercer) Challenge (*Object Counting*)\n",
        "\n",
        "*Nota: Para esta actividad, al igual que anteriores, si es que no se cuenta con GPU se recomienda utilizar el entorno virtual de __[Colaboratory - Google](https://colab.research.google.com/)__*"
      ]
    },
    {
      "metadata": {
        "id": "Na8GabgdDjch",
        "colab_type": "code",
        "colab": {
          "base_uri": "https://localhost:8080/",
          "height": 56
        },
        "outputId": "c486869f-3d1d-4421-c88a-b12e59e67174"
      },
      "cell_type": "code",
      "source": [
        "import pandas as pd\n",
        "from nltk.tokenize import word_tokenize\n",
        "import numpy as np\n",
        "from keras.preprocessing import sequence\n",
        "from keras.layers import Input,RepeatVector,TimeDistributed,Dense,Embedding,Flatten,Activation,Permute,Lambda,CuDNNLSTM,CuDNNGRU,Bidirectional,Dropout\n",
        "from keras.models import Model\n",
        "from keras import backend as K\n",
        "%matplotlib inline\n",
        "import matplotlib.pyplot as plt\n",
        "import matplotlib.mlab as mlab\n",
        "from tqdm import tqdm\n",
        "import nltk\n",
        "from numpy.random import choice\n",
        "nltk.download('punkt')\n",
        "from keras import regularizers\n",
        "import json"
      ],
      "execution_count": 65,
      "outputs": [
        {
          "output_type": "stream",
          "text": [
            "[nltk_data] Downloading package punkt to /root/nltk_data...\n",
            "[nltk_data]   Package punkt is already up-to-date!\n"
          ],
          "name": "stdout"
        }
      ]
    },
    {
      "metadata": {
        "id": "pwwtD3eZFnU9",
        "colab_type": "code",
        "colab": {}
      },
      "cell_type": "code",
      "source": [
        "# Code to read csv file into colaboratory:\n",
        "!pip install -U -q PyDrive\n",
        "from pydrive.auth import GoogleAuth\n",
        "from pydrive.drive import GoogleDrive\n",
        "from google.colab import auth\n",
        "from oauth2client.client import GoogleCredentials\n",
        "\n",
        "# 1. Authenticate and create the PyDrive client.\n",
        "auth.authenticate_user()\n",
        "gauth = GoogleAuth()\n",
        "gauth.credentials = GoogleCredentials.get_application_default()\n",
        "drive = GoogleDrive(gauth)\n",
        "\n",
        "\n",
        "#2. Get the file\n",
        "downloaded = drive.CreateFile({'id':'1iQngzTfVhImh7rvNFUYp3KrEjx4JHn_g'}) # replace the id with id of file you want to access\n",
        "downloaded.GetContentFile('train_Q-A.csv')  \n",
        "downloaded = drive.CreateFile({'id':'1-QWhbVlVYOBF1GbAtzpxkxzg9XELzi4p'}) # replace the id with id of file you want to access\n",
        "downloaded.GetContentFile('test_Q.csv') \n",
        "downloaded = drive.CreateFile({'id':'1E1dhpFRrJK3wI2Q5b8JA1PmIHL7kPHw0'})\n",
        "downloaded.GetContentFile('evaluate-v2.0.py') \n",
        "downloaded = drive.CreateFile({'id':'1a-Yzu8zKJb_vfCEWFsLHY-3bRG-04oJt'})\n",
        "downloaded.GetContentFile('dev-v2.0.json')"
      ],
      "execution_count": 0,
      "outputs": []
    },
    {
      "metadata": {
        "id": "PvPn67-up7_M",
        "colab_type": "text"
      },
      "cell_type": "markdown",
      "source": [
        "<a id=\"segundo\"></a>\n",
        "## 2. *Question Answering*\n",
        "\n",
        "Las redes neuronales recurrentes hoy en día han sido aplicadas a varios problemas que involucra dependencia temporal de los datos de entrada, en textos por lo común, tal como los modelos *sequence to sequence* de traducción, resumir textos, formular hipótesis de un extracto o, como veremos en esta actividad, generar respuesta en base a alguna pregunta. En imágenes también han sido aplicadas, ya sea a procesamiento de videos u a otro problema en que las imágenes tienen dependencia temporal unas con otras.\n",
        "\n",
        "Para ésta actividad trabajaremos el dataset de __[SQuAD2.0](https://rajpurkar.github.io/SQuAD-explorer/)__  (The Stanford Question Answering Dataset), los datos se los entregamos en formato *csv*, sin ningún preprocesamiento, para que sea mas fácil la lectura. La tarea como ya se comentó consiste en predecir una respuesta (secuencia de palabras) que contesten una pregunta también en forma de secuencia de palabras, con un enfoque *encoder-decoder* con módulos de antención.\n",
        "\n",
        "\n",
        "<img src=\"https://d2908q01vomqb2.cloudfront.net/f1f836cb4ea6efb2a0b1b99f41ad8b103eff4b59/2017/07/20/sockeye_1.gif\" title=\"Attention\" width=\"65%\" style=\"float: right;\"/>\n",
        "\n",
        "\n",
        "<img src=\"http://www.wildml.com/wp-content/uploads/2015/12/Screen-Shot-2015-12-30-at-1.16.08-PM.png\" title=\"Attention\" width=\"35%\" style=\"float: left;\"/>\n",
        "\n",
        "\n",
        "\n",
        "Los módulos de antención [[6]](#refs) son una variación a la arquitectura *encoder-decoder* en donde se agrega que para cada instante de tiempo de la **decodificación** $T'$ hay una combinación lineal del vector de codificación en todos los instantes tiempo $T$, ésto es para que en cada instante de tiempo de la decodificación se ponga atención a cierta información en toda la secuencia de entrada. \n",
        "\n",
        "\n",
        "$$\n",
        "y_{T'} = \\sum_{t}^{T} \\alpha_{T',t} \\cdot h_t^{codificacion}\n",
        "$$"
      ]
    },
    {
      "metadata": {
        "id": "V1lzJpJEp7_N",
        "colab_type": "text"
      },
      "cell_type": "markdown",
      "source": [
        "> a) Carge los datos y descríbalos ¿Cuántos ejemplos se tienen para entrenar y para predecir?\n",
        "\n",
        "```python\n",
        "import pandas as pd\n",
        "df_train = pd.read_csv('SQuAD/train_Q-A.csv')\n",
        "df_train.dropna(inplace=True)\n",
        "df_test = pd.read_csv('SQuAD/test_Q.csv')\n",
        "df_train.head()\n",
        "df_train.shape\n",
        "```"
      ]
    },
    {
      "metadata": {
        "id": "sJOWED6CFQib",
        "colab_type": "code",
        "colab": {
          "base_uri": "https://localhost:8080/",
          "height": 206
        },
        "outputId": "03d30fa9-21bb-4d0b-948b-a6d31d18a3ca"
      },
      "cell_type": "code",
      "source": [
        "df_train = pd.read_csv('train_Q-A.csv')\n",
        "#Eliminar entradas con valores nulos\n",
        "df_train.dropna(inplace=True)\n",
        "df_test = pd.read_csv('test_Q.csv')\n",
        "df_train.head()"
      ],
      "execution_count": 4,
      "outputs": [
        {
          "output_type": "execute_result",
          "data": {
            "text/html": [
              "<div>\n",
              "<style scoped>\n",
              "    .dataframe tbody tr th:only-of-type {\n",
              "        vertical-align: middle;\n",
              "    }\n",
              "\n",
              "    .dataframe tbody tr th {\n",
              "        vertical-align: top;\n",
              "    }\n",
              "\n",
              "    .dataframe thead th {\n",
              "        text-align: right;\n",
              "    }\n",
              "</style>\n",
              "<table border=\"1\" class=\"dataframe\">\n",
              "  <thead>\n",
              "    <tr style=\"text-align: right;\">\n",
              "      <th></th>\n",
              "      <th>id</th>\n",
              "      <th>question</th>\n",
              "      <th>answer</th>\n",
              "    </tr>\n",
              "  </thead>\n",
              "  <tbody>\n",
              "    <tr>\n",
              "      <th>0</th>\n",
              "      <td>56be85543aeaaa14008c9063</td>\n",
              "      <td>When did Beyonce start becoming popular?</td>\n",
              "      <td>in the late 1990s</td>\n",
              "    </tr>\n",
              "    <tr>\n",
              "      <th>1</th>\n",
              "      <td>56be85543aeaaa14008c9065</td>\n",
              "      <td>What areas did Beyonce compete in when she was...</td>\n",
              "      <td>singing and dancing</td>\n",
              "    </tr>\n",
              "    <tr>\n",
              "      <th>2</th>\n",
              "      <td>56be85543aeaaa14008c9066</td>\n",
              "      <td>When did Beyonce leave Destiny's Child and bec...</td>\n",
              "      <td>2003</td>\n",
              "    </tr>\n",
              "    <tr>\n",
              "      <th>3</th>\n",
              "      <td>56bf6b0f3aeaaa14008c9601</td>\n",
              "      <td>In what city and state did Beyonce  grow up?</td>\n",
              "      <td>Houston, Texas</td>\n",
              "    </tr>\n",
              "    <tr>\n",
              "      <th>4</th>\n",
              "      <td>56bf6b0f3aeaaa14008c9602</td>\n",
              "      <td>In which decade did Beyonce become famous?</td>\n",
              "      <td>late 1990s</td>\n",
              "    </tr>\n",
              "  </tbody>\n",
              "</table>\n",
              "</div>"
            ],
            "text/plain": [
              "                         id  \\\n",
              "0  56be85543aeaaa14008c9063   \n",
              "1  56be85543aeaaa14008c9065   \n",
              "2  56be85543aeaaa14008c9066   \n",
              "3  56bf6b0f3aeaaa14008c9601   \n",
              "4  56bf6b0f3aeaaa14008c9602   \n",
              "\n",
              "                                            question               answer  \n",
              "0           When did Beyonce start becoming popular?    in the late 1990s  \n",
              "1  What areas did Beyonce compete in when she was...  singing and dancing  \n",
              "2  When did Beyonce leave Destiny's Child and bec...                 2003  \n",
              "3      In what city and state did Beyonce  grow up?        Houston, Texas  \n",
              "4         In which decade did Beyonce become famous?           late 1990s  "
            ]
          },
          "metadata": {
            "tags": []
          },
          "execution_count": 4
        }
      ]
    },
    {
      "metadata": {
        "id": "CS78KYO7FQim",
        "colab_type": "code",
        "colab": {
          "base_uri": "https://localhost:8080/",
          "height": 36
        },
        "outputId": "7e1379cb-150f-4121-d15b-6f7de0cb7cc9"
      },
      "cell_type": "code",
      "source": [
        "df_train.shape"
      ],
      "execution_count": 5,
      "outputs": [
        {
          "output_type": "execute_result",
          "data": {
            "text/plain": [
              "(86821, 3)"
            ]
          },
          "metadata": {
            "tags": []
          },
          "execution_count": 5
        }
      ]
    },
    {
      "metadata": {
        "id": "kz91OuFBFQiv",
        "colab_type": "code",
        "colab": {
          "base_uri": "https://localhost:8080/",
          "height": 206
        },
        "outputId": "1f4cb5c2-115e-490d-e9d5-f273bb73168e"
      },
      "cell_type": "code",
      "source": [
        "df_test.head()"
      ],
      "execution_count": 6,
      "outputs": [
        {
          "output_type": "execute_result",
          "data": {
            "text/html": [
              "<div>\n",
              "<style scoped>\n",
              "    .dataframe tbody tr th:only-of-type {\n",
              "        vertical-align: middle;\n",
              "    }\n",
              "\n",
              "    .dataframe tbody tr th {\n",
              "        vertical-align: top;\n",
              "    }\n",
              "\n",
              "    .dataframe thead th {\n",
              "        text-align: right;\n",
              "    }\n",
              "</style>\n",
              "<table border=\"1\" class=\"dataframe\">\n",
              "  <thead>\n",
              "    <tr style=\"text-align: right;\">\n",
              "      <th></th>\n",
              "      <th>id</th>\n",
              "      <th>question</th>\n",
              "    </tr>\n",
              "  </thead>\n",
              "  <tbody>\n",
              "    <tr>\n",
              "      <th>0</th>\n",
              "      <td>56ddde6b9a695914005b9628</td>\n",
              "      <td>In what country is Normandy located?</td>\n",
              "    </tr>\n",
              "    <tr>\n",
              "      <th>1</th>\n",
              "      <td>56ddde6b9a695914005b9629</td>\n",
              "      <td>When were the Normans in Normandy?</td>\n",
              "    </tr>\n",
              "    <tr>\n",
              "      <th>2</th>\n",
              "      <td>56ddde6b9a695914005b962a</td>\n",
              "      <td>From which countries did the Norse originate?</td>\n",
              "    </tr>\n",
              "    <tr>\n",
              "      <th>3</th>\n",
              "      <td>56ddde6b9a695914005b962b</td>\n",
              "      <td>Who was the Norse leader?</td>\n",
              "    </tr>\n",
              "    <tr>\n",
              "      <th>4</th>\n",
              "      <td>56ddde6b9a695914005b962c</td>\n",
              "      <td>What century did the Normans first gain their ...</td>\n",
              "    </tr>\n",
              "  </tbody>\n",
              "</table>\n",
              "</div>"
            ],
            "text/plain": [
              "                         id                                           question\n",
              "0  56ddde6b9a695914005b9628               In what country is Normandy located?\n",
              "1  56ddde6b9a695914005b9629                 When were the Normans in Normandy?\n",
              "2  56ddde6b9a695914005b962a      From which countries did the Norse originate?\n",
              "3  56ddde6b9a695914005b962b                          Who was the Norse leader?\n",
              "4  56ddde6b9a695914005b962c  What century did the Normans first gain their ..."
            ]
          },
          "metadata": {
            "tags": []
          },
          "execution_count": 6
        }
      ]
    },
    {
      "metadata": {
        "id": "GYGj8pbSFQi1",
        "colab_type": "code",
        "colab": {
          "base_uri": "https://localhost:8080/",
          "height": 36
        },
        "outputId": "1b17bc08-701b-49ac-8ed2-7108b2337830"
      },
      "cell_type": "code",
      "source": [
        "df_test.shape"
      ],
      "execution_count": 7,
      "outputs": [
        {
          "output_type": "execute_result",
          "data": {
            "text/plain": [
              "(11873, 2)"
            ]
          },
          "metadata": {
            "tags": []
          },
          "execution_count": 7
        }
      ]
    },
    {
      "metadata": {
        "id": "tu5azMmZFQi7",
        "colab_type": "text"
      },
      "cell_type": "markdown",
      "source": [
        "Los datos de entrenamiento consisten en 86821 preguntas y respuestas (e id correspondiente) sacadas de artículos de Wikipedia.\n",
        "Los datos de prueba corresponden a 11873 preguntas."
      ]
    },
    {
      "metadata": {
        "id": "XdgVkrZGp7_Q",
        "colab_type": "text"
      },
      "cell_type": "markdown",
      "source": [
        "> b) Realice un preprocesamiento simple a los textos de entrada (preguntas) *tokenizandolos* y pasando a minúsculas para evitar ambiguedad, si desea agregar algun preprocesamiento éxtra ésto se verá reflajado en su nota. A los textos de salida (respuestas) no realice ningún preprocesamiento mas que *tokenizar*, puesto que para la evaluación se solicita retornar los textos en su forma natural. Comente lo realizado.\n",
        "\n",
        "```python\n",
        "from nltk.tokenize import word_tokenize\n",
        "train_questions = [word_tokenize(sentence.lower()) for sentence in df_train[\"question\"]] #or processing\n",
        "test_questions = [word_tokenize(sentence.lower()) for sentence in df_test[\"question\"]]\n",
        "train_answers = [word_tokenize(sentence) for sentence in df_train[\"answer\"]]\n",
        "```"
      ]
    },
    {
      "metadata": {
        "id": "V5k8dY-fFQjB",
        "colab_type": "text"
      },
      "cell_type": "markdown",
      "source": [
        "Para utilizar el tokenizador fue necesario descargar el corpus del modelo. Para ello se utilizó:\n",
        "\n",
        "```python\n",
        "import nltk\n",
        "nltk.download('punkt')\n",
        "```"
      ]
    },
    {
      "metadata": {
        "id": "ZcUhQjH7FQjD",
        "colab_type": "code",
        "colab": {
          "base_uri": "https://localhost:8080/",
          "height": 75
        },
        "outputId": "5d152c8a-00e3-4392-ca99-b0b2fa946da0"
      },
      "cell_type": "code",
      "source": [
        "train_questions = [word_tokenize(sentence.lower()) for sentence in tqdm(df_train[\"question\"])] #or processing\n",
        "test_questions = [word_tokenize(sentence.lower()) for sentence in tqdm(df_test[\"question\"])]\n",
        "train_answers = [word_tokenize(sentence) for sentence in tqdm(df_train[\"answer\"])]"
      ],
      "execution_count": 8,
      "outputs": [
        {
          "output_type": "stream",
          "text": [
            "100%|██████████| 86821/86821 [00:13<00:00, 6661.82it/s]\n",
            "100%|██████████| 11873/11873 [00:01<00:00, 6683.94it/s]\n",
            "100%|██████████| 86821/86821 [00:09<00:00, 8981.26it/s]\n"
          ],
          "name": "stderr"
        }
      ]
    },
    {
      "metadata": {
        "id": "H5BH3ZC-FQjO",
        "colab_type": "code",
        "colab": {
          "base_uri": "https://localhost:8080/",
          "height": 95
        },
        "outputId": "7979be03-4670-4c01-ab89-5cebf35b647f"
      },
      "cell_type": "code",
      "source": [
        "nQuestions = 0\n",
        "sample = True\n",
        "nonQuestion = \"\"\n",
        "\n",
        "for i in tqdm(range(len(train_questions))):\n",
        "    question = train_questions[i]\n",
        "    if '?' in question:\n",
        "        nQuestions += 1\n",
        "    else:\n",
        "        if sample:\n",
        "            nonQuestion = question\n",
        "            sample = False\n",
        "\n",
        "print('Number of questions with the question sign: ',nQuestions)\n",
        "print('Example of non question question: ', nonQuestion)"
      ],
      "execution_count": 9,
      "outputs": [
        {
          "output_type": "stream",
          "text": [
            "100%|██████████| 86821/86821 [00:00<00:00, 1156248.94it/s]"
          ],
          "name": "stderr"
        },
        {
          "output_type": "stream",
          "text": [
            "Number of questions with the question sign:  85893\n",
            "Example of non question question:  ['what', 'song', 'did', 'beyoncé', 'perform', 'at', 'the', 'first', 'inaugural', 'dance', 'for', 'the', 'obamas', '.']\n"
          ],
          "name": "stdout"
        },
        {
          "output_type": "stream",
          "text": [
            "\n"
          ],
          "name": "stderr"
        }
      ]
    },
    {
      "metadata": {
        "id": "VzWYNNtFFQjY",
        "colab_type": "text"
      },
      "cell_type": "markdown",
      "source": [
        "Las mayoría de las preguntas tienen el signo de pregunta, y las que no lo poseen tienen la misma estructura. Es decir el signo de pregunta no añade információn relevante a la entrada.\n",
        "Por lo anterior, se eliminarán estos signos."
      ]
    },
    {
      "metadata": {
        "id": "qhOXVspdFQjZ",
        "colab_type": "code",
        "colab": {
          "base_uri": "https://localhost:8080/",
          "height": 36
        },
        "outputId": "acc7d637-14c7-459a-c689-27aa185fb82a"
      },
      "cell_type": "code",
      "source": [
        "for i in tqdm(range(len(train_questions))):\n",
        "    if '?' in train_questions[i]:\n",
        "        train_questions[i][:] = [lemma for lemma in train_questions[i] if lemma != '?']"
      ],
      "execution_count": 10,
      "outputs": [
        {
          "output_type": "stream",
          "text": [
            "100%|██████████| 86821/86821 [00:00<00:00, 482681.39it/s]\n"
          ],
          "name": "stderr"
        }
      ]
    },
    {
      "metadata": {
        "id": "YFu5G02EFQjf",
        "colab_type": "code",
        "colab": {
          "base_uri": "https://localhost:8080/",
          "height": 56
        },
        "outputId": "e1567986-555b-4e55-94f4-3d5064a16315"
      },
      "cell_type": "code",
      "source": [
        "nQuestions = 0\n",
        "sample = True\n",
        "\n",
        "for i in tqdm(range(len(train_questions))):\n",
        "    question = train_questions[i]\n",
        "    if '?' in question:\n",
        "        nQuestions += 1\n",
        "        \n",
        "print('Number of questions with the question sign: ',nQuestions)"
      ],
      "execution_count": 11,
      "outputs": [
        {
          "output_type": "stream",
          "text": [
            "100%|██████████| 86821/86821 [00:00<00:00, 1239397.81it/s]"
          ],
          "name": "stderr"
        },
        {
          "output_type": "stream",
          "text": [
            "Number of questions with the question sign:  0\n"
          ],
          "name": "stdout"
        },
        {
          "output_type": "stream",
          "text": [
            "\n"
          ],
          "name": "stderr"
        }
      ]
    },
    {
      "metadata": {
        "id": "2jwdzVFPFQjm",
        "colab_type": "code",
        "colab": {
          "base_uri": "https://localhost:8080/",
          "height": 333
        },
        "outputId": "32dd846e-5235-4352-e719-e78300260d48"
      },
      "cell_type": "code",
      "source": [
        "largos = []\n",
        "\n",
        "for i in tqdm(range(len(train_questions))):\n",
        "    largos.append(len(train_questions[i]))\n",
        "\n",
        "sigma = np.std(largos)\n",
        "mu = np.average(largos)\n",
        "\n",
        "# the histogram of the data\n",
        "n, bins, patches = plt.hist(largos, 100, normed=1, facecolor='blue', alpha=0.75)\n",
        "\n",
        "titulo = 'mu={0:.2f}, sigma={1:.2f}'.format(mu,sigma)\n",
        "\n",
        "plt.xlabel('Sentence lenght [#lemmas]')\n",
        "plt.ylabel('Relative frequence')\n",
        "plt.title('Questions lenght distribution')\n",
        "plt.grid(True)\n",
        "\n",
        "plt.show()\n",
        "\n",
        "print(titulo)"
      ],
      "execution_count": 12,
      "outputs": [
        {
          "output_type": "stream",
          "text": [
            "100%|██████████| 86821/86821 [00:00<00:00, 1414507.61it/s]\n"
          ],
          "name": "stderr"
        },
        {
          "output_type": "display_data",
          "data": {
            "image/png": "[encoded data removed]",
            "text/plain": [
              "<matplotlib.figure.Figure at 0x7efc4b95e518>"
            ]
          },
          "metadata": {
            "tags": []
          }
        },
        {
          "output_type": "stream",
          "text": [
            "mu=10.30, sigma=3.71\n"
          ],
          "name": "stdout"
        }
      ]
    },
    {
      "metadata": {
        "id": "cNO1ky5yFQju",
        "colab_type": "text"
      },
      "cell_type": "markdown",
      "source": [
        "El largo de las preguntas oscila entre $10.30\\pm 3.72$ lemmas."
      ]
    },
    {
      "metadata": {
        "id": "pqU7bBdbFQjv",
        "colab_type": "code",
        "colab": {
          "base_uri": "https://localhost:8080/",
          "height": 56
        },
        "outputId": "6c2a240c-1e9a-4ff6-a198-ba8e5f6a5327"
      },
      "cell_type": "code",
      "source": [
        "lemas = set()\n",
        "for i in tqdm(range(len(train_questions))):\n",
        "    for lema in train_questions[i]:\n",
        "        lemas.add(lema)\n",
        "\n",
        "lemas = list(lemas)    \n",
        "    \n",
        "print(\"Ammount of lemas:\", len(lemas))"
      ],
      "execution_count": 13,
      "outputs": [
        {
          "output_type": "stream",
          "text": [
            "100%|██████████| 86821/86821 [00:00<00:00, 316210.74it/s]"
          ],
          "name": "stderr"
        },
        {
          "output_type": "stream",
          "text": [
            "Ammount of lemas: 39480\n"
          ],
          "name": "stdout"
        },
        {
          "output_type": "stream",
          "text": [
            "\n"
          ],
          "name": "stderr"
        }
      ]
    },
    {
      "metadata": {
        "id": "LXYYLjB4DcRQ",
        "colab_type": "code",
        "colab": {}
      },
      "cell_type": "code",
      "source": [
        "i=0\n",
        "\n",
        "Nlemas = np.empty(len(lemas))\n",
        "\n",
        "for lema in tqdm(lemas):\n",
        "    Nlemas[i]= sum(question.count(lema) for question in train_questions)\n",
        "    i+=1"
      ],
      "execution_count": 0,
      "outputs": []
    },
    {
      "metadata": {
        "id": "XlyYUbj2FQj1",
        "colab_type": "text"
      },
      "cell_type": "markdown",
      "source": [
        "Existen 39480 lemas distintos"
      ]
    },
    {
      "metadata": {
        "id": "Gm0nREbQFQj2",
        "colab_type": "code",
        "colab": {
          "base_uri": "https://localhost:8080/",
          "height": 249
        },
        "outputId": "b02b8f3f-fdba-4973-c402-3e8f18eff1b2"
      },
      "cell_type": "code",
      "source": [
        "sortedLemmas = sorted(zip(lemas,Nlemas), reverse=True, key=lambda pair: pair[1])\n",
        "nTop = 10\n",
        "i=0\n",
        "print('{0:^20}|{1:^15}'.format('Lemma', 'Ammount'))\n",
        "print('-'*36)\n",
        "for (l, n) in sortedLemmas:\n",
        "  print('{0:^20}|{1:^15.0f}'.format(l, n))\n",
        "  i+=1\n",
        "  if i >= nTop:\n",
        "    break"
      ],
      "execution_count": 14,
      "outputs": [
        {
          "output_type": "stream",
          "text": [
            "       Lemma        |    Ammount    \n",
            "------------------------------------\n",
            "        the         |     64120     \n",
            "        what        |     50504     \n",
            "         of         |     34132     \n",
            "         in         |     26109     \n",
            "         to         |     18777     \n",
            "        was         |     17199     \n",
            "         is         |     16416     \n",
            "        did         |     15838     \n",
            "         a          |     11162     \n",
            "        how         |     9450      \n"
          ],
          "name": "stdout"
        }
      ]
    },
    {
      "metadata": {
        "id": "QzTKQqUYFQj9",
        "colab_type": "text"
      },
      "cell_type": "markdown",
      "source": [
        "Como es de esperar las palabras más comunes de las preguntas corresponden a artículos, conjunciones e inicios de preguntas como 'what', 'how', 'did', 'was'."
      ]
    },
    {
      "metadata": {
        "id": "O39Vq-erFQj-",
        "colab_type": "code",
        "colab": {
          "base_uri": "https://localhost:8080/",
          "height": 592
        },
        "outputId": "f0bf7f10-e555-4b62-a962-3a9b5baec1d4"
      },
      "cell_type": "code",
      "source": [
        "max_repeat = sortedLemmas[0][1]\n",
        "plt.figure(figsize=(20,10))\n",
        "plt.plot(list(range(100)), [1/(i+1) for i in range(100)], 'b-', linewidth=2, label='Zipf')\n",
        "plt.plot(list(range(100)), [y/max_repeat for (_, y) in sortedLemmas[0:100]], 'ro', label='Results')\n",
        "plt.legend(loc='best')\n",
        "plt.show()"
      ],
      "execution_count": 15,
      "outputs": [
        {
          "output_type": "display_data",
          "data": {
            "image/png": "[encoded data removed]",
            "text/plain": [
              "<matplotlib.figure.Figure at 0x7f6f943604e0>"
            ]
          },
          "metadata": {
            "tags": []
          }
        }
      ]
    },
    {
      "metadata": {
        "id": "uhiy5jKjFQkK",
        "colab_type": "text"
      },
      "cell_type": "markdown",
      "source": [
        "Se observa una tendencia del vocabulario a seguir la ley de zipf, aunque no a cabalidad.\n",
        "Ahora se realizará el mismo procesamiento y análisis para el conjunto de preguntas de prueba."
      ]
    },
    {
      "metadata": {
        "id": "MhJS9abfFQkM",
        "colab_type": "code",
        "colab": {
          "base_uri": "https://localhost:8080/",
          "height": 36
        },
        "outputId": "85c08102-4f25-4eb8-b308-a4d8bac3dac4"
      },
      "cell_type": "code",
      "source": [
        "for i in tqdm(range(len(test_questions))):\n",
        "    if '?' in test_questions[i]:\n",
        "        test_questions[i][:] = [lemma for lemma in test_questions[i] if lemma != '?']"
      ],
      "execution_count": 14,
      "outputs": [
        {
          "output_type": "stream",
          "text": [
            "100%|██████████| 11873/11873 [00:00<00:00, 480471.72it/s]\n"
          ],
          "name": "stderr"
        }
      ]
    },
    {
      "metadata": {
        "id": "1NIv_PoXFQkU",
        "colab_type": "code",
        "colab": {
          "base_uri": "https://localhost:8080/",
          "height": 56
        },
        "outputId": "747d3895-4a0c-44e5-87cc-d3af9f664fc2"
      },
      "cell_type": "code",
      "source": [
        "nQuestions = 0\n",
        "sample = True\n",
        "\n",
        "for i in tqdm(range(len(test_questions))):\n",
        "    question = test_questions[i]\n",
        "    if '?' in question:\n",
        "        nQuestions += 1\n",
        "        \n",
        "print('Number of questions with the question sign: ',nQuestions)"
      ],
      "execution_count": 15,
      "outputs": [
        {
          "output_type": "stream",
          "text": [
            "100%|██████████| 11873/11873 [00:00<00:00, 1111832.36it/s]"
          ],
          "name": "stderr"
        },
        {
          "output_type": "stream",
          "text": [
            "Number of questions with the question sign:  0\n"
          ],
          "name": "stdout"
        },
        {
          "output_type": "stream",
          "text": [
            "\n"
          ],
          "name": "stderr"
        }
      ]
    },
    {
      "metadata": {
        "id": "2FrhCzlTFQkb",
        "colab_type": "code",
        "colab": {
          "base_uri": "https://localhost:8080/",
          "height": 333
        },
        "outputId": "0d84bd16-6b59-4478-934f-1dbf98ea049f"
      },
      "cell_type": "code",
      "source": [
        "largos = []\n",
        "\n",
        "for i in tqdm(range(len(test_questions))):\n",
        "    largos.append(len(test_questions[i]))\n",
        "\n",
        "sigma = np.std(largos)\n",
        "mu = np.average(largos)\n",
        "\n",
        "# the histogram of the data\n",
        "n, bins, patches = plt.hist(largos, 100, normed=1, facecolor='blue', alpha=0.75)\n",
        "\n",
        "titulo = 'mu={0:.2f}, sigma={1:.2f}'.format(mu,sigma)\n",
        "\n",
        "plt.xlabel('Sentence lenght [#lemmas]')\n",
        "plt.ylabel('Relative frequence')\n",
        "plt.title('Questions lenght distribution')\n",
        "plt.grid(True)\n",
        "\n",
        "plt.show()\n",
        "\n",
        "print(titulo)"
      ],
      "execution_count": 16,
      "outputs": [
        {
          "output_type": "stream",
          "text": [
            "100%|██████████| 11873/11873 [00:00<00:00, 1005714.75it/s]\n"
          ],
          "name": "stderr"
        },
        {
          "output_type": "display_data",
          "data": {
            "image/png": "[encoded data removed]",
            "text/plain": [
              "<matplotlib.figure.Figure at 0x7efc42d945f8>"
            ]
          },
          "metadata": {
            "tags": []
          }
        },
        {
          "output_type": "stream",
          "text": [
            "mu=10.21, sigma=3.61\n"
          ],
          "name": "stdout"
        }
      ]
    },
    {
      "metadata": {
        "id": "G7cHUpPyFQki",
        "colab_type": "text"
      },
      "cell_type": "markdown",
      "source": [
        "El largo de las preguntas de test se encuentra en un rango bastante similar al del conjunto de entrenamiento."
      ]
    },
    {
      "metadata": {
        "id": "7OHLzREEFQkj",
        "colab_type": "code",
        "colab": {
          "base_uri": "https://localhost:8080/",
          "height": 56
        },
        "outputId": "961f3aeb-8f89-4d68-eb4e-2f1d910bd727"
      },
      "cell_type": "code",
      "source": [
        "lemasTest = set()\n",
        "for i in tqdm(range(len(test_questions))):\n",
        "    for lema in test_questions[i]:\n",
        "        lemasTest.add(lema)\n",
        "\n",
        "lemasTest = list(lemasTest)    \n",
        "    \n",
        "print(\"Ammount of lemas:\", len(lemasTest))"
      ],
      "execution_count": 17,
      "outputs": [
        {
          "output_type": "stream",
          "text": [
            "100%|██████████| 11873/11873 [00:00<00:00, 315716.88it/s]"
          ],
          "name": "stderr"
        },
        {
          "output_type": "stream",
          "text": [
            "Ammount of lemas: 10320\n"
          ],
          "name": "stdout"
        },
        {
          "output_type": "stream",
          "text": [
            "\n"
          ],
          "name": "stderr"
        }
      ]
    },
    {
      "metadata": {
        "id": "JKWse-DTDinB",
        "colab_type": "code",
        "colab": {
          "base_uri": "https://localhost:8080/",
          "height": 36
        },
        "outputId": "e6f7fda4-78ad-47f0-9288-b7cb56935e91"
      },
      "cell_type": "code",
      "source": [
        "i=0\n",
        "\n",
        "NlemasTest = np.empty(len(lemasTest))\n",
        "\n",
        "for lema in tqdm(lemasTest):\n",
        "    NlemasTest[i]= sum(question.count(lema) for question in test_questions)\n",
        "    i+=1"
      ],
      "execution_count": 20,
      "outputs": [
        {
          "output_type": "stream",
          "text": [
            "100%|██████████| 10320/10320 [00:39<00:00, 264.23it/s]\n"
          ],
          "name": "stderr"
        }
      ]
    },
    {
      "metadata": {
        "id": "c_KeWrydFQkm",
        "colab_type": "code",
        "colab": {
          "base_uri": "https://localhost:8080/",
          "height": 249
        },
        "outputId": "da50d0a0-16b0-4c71-dae6-3a7fa782145b"
      },
      "cell_type": "code",
      "source": [
        "sortedLemmasTest = sorted(zip(lemasTest,NlemasTest), reverse=True, key=lambda pair: pair[1])\n",
        "nTop = 10\n",
        "i=0\n",
        "print('{0:^20}|{1:^15}'.format('Lemma', 'Ammount'))\n",
        "print('-'*36)\n",
        "for (l, n) in sortedLemmasTest:\n",
        "  print('{0:^20}|{1:^15.0f}'.format(l, n))\n",
        "  i+=1\n",
        "  if i >= nTop:\n",
        "    break"
      ],
      "execution_count": 21,
      "outputs": [
        {
          "output_type": "stream",
          "text": [
            "       Lemma        |    Ammount    \n",
            "------------------------------------\n",
            "        the         |     8426      \n",
            "        what        |     7512      \n",
            "         of         |     4715      \n",
            "         in         |     3359      \n",
            "         to         |     2699      \n",
            "         is         |     2676      \n",
            "        did         |     1825      \n",
            "        was         |     1803      \n",
            "         a          |     1758      \n",
            "        how         |     1292      \n"
          ],
          "name": "stdout"
        }
      ]
    },
    {
      "metadata": {
        "id": "IXhQgSUtFQkq",
        "colab_type": "text"
      },
      "cell_type": "markdown",
      "source": [
        "Se observa que los lemas más repetidos en el conjunto de test corresponden de manera casi 1 a 1 con el conjunto de entrenamiento."
      ]
    },
    {
      "metadata": {
        "id": "eFzmvS6dFQkr",
        "colab_type": "code",
        "colab": {
          "base_uri": "https://localhost:8080/",
          "height": 592
        },
        "outputId": "54e1b146-0947-4db1-e30e-9edb55f8ad7c"
      },
      "cell_type": "code",
      "source": [
        "max_repeat = sortedLemmasTest[0][1]\n",
        "plt.figure(figsize=(20,10))\n",
        "plt.plot(list(range(100)), [1/(i+1) for i in range(100)], 'b-', linewidth=2, label='Zipf')\n",
        "plt.plot(list(range(100)), [y/max_repeat for (_, y) in sortedLemmasTest[0:100]], 'ro', label='Results')\n",
        "plt.legend(loc='best')\n",
        "plt.show()"
      ],
      "execution_count": 22,
      "outputs": [
        {
          "output_type": "display_data",
          "data": {
            "image/png": "[encoded data removed]",
            "text/plain": [
              "<matplotlib.figure.Figure at 0x7f6f94233d68>"
            ]
          },
          "metadata": {
            "tags": []
          }
        }
      ]
    },
    {
      "metadata": {
        "id": "8SLDLYeUFQkv",
        "colab_type": "text"
      },
      "cell_type": "markdown",
      "source": [
        "Ahora, para efectos de construir un vocabulario completo, se unirán los lemas de ambos conjuntos"
      ]
    },
    {
      "metadata": {
        "id": "1WpyPFe8FQkv",
        "colab_type": "code",
        "colab": {
          "base_uri": "https://localhost:8080/",
          "height": 36
        },
        "outputId": "eea3f47f-8483-4f41-a89f-6af5819df586"
      },
      "cell_type": "code",
      "source": [
        "vocab_question = set()\n",
        "\n",
        "for lema in lemas:\n",
        "    vocab_question.add(lema)\n",
        "    \n",
        "for lema in lemasTest:\n",
        "    vocab_question.add(lema)\n",
        "    \n",
        "print(\"Vocabulary size:\", len(list(vocab_question)))"
      ],
      "execution_count": 18,
      "outputs": [
        {
          "output_type": "stream",
          "text": [
            "Vocabulary size: 42058\n"
          ],
          "name": "stdout"
        }
      ]
    },
    {
      "metadata": {
        "id": "emADx-i7FQk3",
        "colab_type": "text"
      },
      "cell_type": "markdown",
      "source": [
        "Considerando que:\n",
        "$$\\#\\text{Lemas}_{\\text{train}}=39480$$\n",
        "$$\\#\\text{Lemas}_{\\text{test}}=10320$$\n",
        "$$\\#(\\text{Lemas}_{\\text{train}}\\cup\\text{Lemas}_{\\text{test}})=42058$$\n",
        "$$\\#(\\text{Lemas}_{\\text{train}}\\cap\\text{Lemas}_{\\text{test}})=7742$$\n",
        "\n",
        "Esto implica que en el conjunto de pruebas existen $2578$ lemas que no existen en el conjunto de entrenamiento, lo cual puede ocasionar problemas en la predicción, sobre todo porque los lemas serán codificados haciendo imposible una relación entre los lemas aprendidos y los nuevos.\n",
        "\n",
        "Edit Post Presentación: Ahora se considera que unificar los vocabularios es contraproducente, ya que se incrementa la dimensionalidad de la entrada para representar palabras que no serán utilizadas en el entrenamiento. Pudiendo esto afectar la capacidad predictiva del modelo, ya que se necesitan de más parámetros para modelar el ingreso de las nuevos lemas."
      ]
    },
    {
      "metadata": {
        "id": "vMh25sbSp7_U",
        "colab_type": "text"
      },
      "cell_type": "markdown",
      "source": [
        "> c) Cree un vocabulario para codificar las palabras en las respuestas a generar. Repita el procedimiento para las preguntas. Agrege un símbolo que signifique el fin de la respuesta a generar, así para tener un criterio de cuando una respuesta, valga la redundancia, está efectivamente *respondida* ¿Cuántas palabras tiene el vocabulario de las respuestas y de las preguntas? ¿Ésto podría ser un problema al momento de entrenar la red para que predizca de entre todas ellas?\n",
        "\n",
        "```python\n",
        "vocab_answer = set()\n",
        "for sentence in train_answers:\n",
        "    for word in sentence:\n",
        "        vocab_answer.add(word)\n",
        "vocab_answer = [\"#end\"]+ list(vocab_answer)\n",
        "print('posibles palabras para respuestas :', len(vocab_answer))\n",
        "vocabA_indices = {c: i for i, c in enumerate(vocab_answer)}\n",
        "indices_vocabA = {i: c for i, c in enumerate(vocab_answer)}\n",
        "#sameforquestions\n",
        "```"
      ]
    },
    {
      "metadata": {
        "id": "mnnP01FNFQk5",
        "colab_type": "code",
        "colab": {
          "base_uri": "https://localhost:8080/",
          "height": 36
        },
        "outputId": "3c6bec43-bb67-4a7e-b7ed-d192faaf62aa"
      },
      "cell_type": "code",
      "source": [
        "vocab_answer = set()\n",
        "for sentence in train_answers:\n",
        "    for word in sentence:\n",
        "        vocab_answer.add(word)\n",
        "vocab_answer = [\"#end\"]+ list(vocab_answer)\n",
        "print('posibles palabras para respuestas :', len(vocab_answer))\n",
        "vocabA_indices = {c: i for i, c in enumerate(vocab_answer)}\n",
        "indices_vocabA = {i: c for i, c in enumerate(vocab_answer)}\n",
        "#sameforquestions"
      ],
      "execution_count": 19,
      "outputs": [
        {
          "output_type": "stream",
          "text": [
            "posibles palabras para respuestas : 47423\n"
          ],
          "name": "stdout"
        }
      ]
    },
    {
      "metadata": {
        "id": "SI1beqxuFQlC",
        "colab_type": "code",
        "colab": {}
      },
      "cell_type": "code",
      "source": [
        "vocab_question = [\"#end\"]+ list(vocab_question)\n",
        "vocabQ_indices = {c: i for i, c in enumerate(vocab_question)}\n",
        "indices_vocabQ = {i: c for i, c in enumerate(vocab_question)}"
      ],
      "execution_count": 0,
      "outputs": []
    },
    {
      "metadata": {
        "id": "3uO166KDp7_V",
        "colab_type": "text"
      },
      "cell_type": "markdown",
      "source": [
        "> d) Codifique los tokens (palabras) de cada texto que utilizará.\n",
        "\n",
        "```python\n",
        "#input and output to onehotvector\n",
        "X_answers = [[vocabA_indices[palabra] for palabra in sentence] for sentence in train_answers]\n",
        "Xtrain_question = #same for train question\n",
        "Xtest_question = #same for test question\n",
        "```"
      ]
    },
    {
      "metadata": {
        "id": "q1a2Pz2qFQlL",
        "colab_type": "code",
        "colab": {}
      },
      "cell_type": "code",
      "source": [
        "#input and output to onehotvector\n",
        "X_answers = [[vocabA_indices[palabra] for palabra in sentence] for sentence in train_answers]\n",
        "Xtrain_question = [[vocabQ_indices[palabra] for palabra in sentence] for sentence in train_questions]\n",
        "Xtest_question = [[vocabQ_indices[palabra] for palabra in sentence] for sentence in test_questions]"
      ],
      "execution_count": 0,
      "outputs": []
    },
    {
      "metadata": {
        "id": "TfSHgO47p7_X",
        "colab_type": "text"
      },
      "cell_type": "markdown",
      "source": [
        "> Luego de ésto realice un *padding* a ambas secuencias, entrada y salida de entrenamiento y a la entrada del conjunto de pruebas. Comente sobre las dimensionalidades finales de los conjuntos de entrenamiento y de prueba.\n",
        "\n",
        "```python\n",
        "import numpy as np\n",
        "max_input_lenght = np.max(list(map(len,train_questions)))\n",
        "max_output_lenght = np.max(list(map(len,train_answers)))+1\n",
        "from keras.preprocessing import sequence\n",
        "Xtrain_question = sequence.pad_sequences(Xtrain_question,maxlen=max_input_lenght,padding='pre or post',value=0)\n",
        "Xtest_question = sequence.pad_sequences(Xtest_question,maxlen=max_input_lenght,padding='pre or post',value=0)\n",
        "X_answers = sequence.pad_sequences(X_answers,maxlen=max_output_lenght,padding='post',value=vocabA_indices[\"#end\"])\n",
        "```"
      ]
    },
    {
      "metadata": {
        "id": "vov2uEHZFQlN",
        "colab_type": "code",
        "colab": {}
      },
      "cell_type": "code",
      "source": [
        "max_input_lenght = np.max([np.max(list(map(len,train_questions))),np.max(list(map(len,test_questions)))])\n",
        "max_output_lenght = np.max(list(map(len,train_answers)))+1\n",
        "\n",
        "Xtrain_question = sequence.pad_sequences(Xtrain_question,maxlen=max_input_lenght,padding='post',value=vocabQ_indices[\"#end\"])\n",
        "Xtest_question = sequence.pad_sequences(Xtest_question,maxlen=max_input_lenght,padding='post',value=vocabQ_indices[\"#end\"])\n",
        "X_answers = sequence.pad_sequences(X_answers,maxlen=max_output_lenght,padding='post',value=vocabA_indices[\"#end\"])"
      ],
      "execution_count": 0,
      "outputs": []
    },
    {
      "metadata": {
        "id": "2dogWXqGFQlR",
        "colab_type": "text"
      },
      "cell_type": "markdown",
      "source": [
        "Se define el tamaño máximo de entrada como el máximo entre el largo de las preguntas de entrenamiento y pruebas, para mantener consistencia y que la red pueda ser efectivamente alimentada con los datos de prueba."
      ]
    },
    {
      "metadata": {
        "id": "sRkAK7KqFQlR",
        "colab_type": "code",
        "colab": {
          "base_uri": "https://localhost:8080/",
          "height": 75
        },
        "outputId": "682325f7-2931-474a-8371-f66f281b9f61"
      },
      "cell_type": "code",
      "source": [
        "print(\"Size training input set:\", Xtrain_question.shape)\n",
        "print(\"Size testing input set:\", Xtest_question.shape)\n",
        "print(\"Size training output set:\", X_answers.shape)"
      ],
      "execution_count": 23,
      "outputs": [
        {
          "output_type": "stream",
          "text": [
            "Size training input set: (86821, 59)\n",
            "Size testing input set: (11873, 59)\n",
            "Size training output set: (86821, 47)\n"
          ],
          "name": "stdout"
        }
      ]
    },
    {
      "metadata": {
        "id": "fpbMRkYsFQlY",
        "colab_type": "text"
      },
      "cell_type": "markdown",
      "source": [
        "Por el análisis de los conjuntos de preguntas, se sabe que el largo de las secuencias es en promedio de $11$ elementos por lo que la mayoría de las secuencias codificadas presentarán más de la mitad de su largo rellenas con $0$.\n",
        "Las pregunta más larga contiene 59 lemas, mientras que la respuesta más larga contiene 46+1 palabras considerando el caracter de término."
      ]
    },
    {
      "metadata": {
        "id": "hhwyBNsdp7_Z",
        "colab_type": "text"
      },
      "cell_type": "markdown",
      "source": [
        "> e) Defina el modelo *encoder-decoder* con los módulos de atención.\n",
        "\n",
        "```python\n",
        "#Encoder-Decoder modelo\n",
        "from keras.layers import Input,RepeatVector,TimeDistributed,Dense,Embedding,Flatten,Activation,Permute,Lambda\n",
        "from keras.models import Model\n",
        "from keras import backend as K\n",
        "lenght_output = max_output_lenght\n",
        "hidden_dim = 128\n",
        "```"
      ]
    },
    {
      "metadata": {
        "id": "5ziLUdXVFQlZ",
        "colab_type": "code",
        "colab": {}
      },
      "cell_type": "code",
      "source": [
        "lenght_output = max_output_lenght\n",
        "hidden_dim = 128"
      ],
      "execution_count": 0,
      "outputs": []
    },
    {
      "metadata": {
        "id": "Aan9t5llp7_b",
        "colab_type": "text"
      },
      "cell_type": "markdown",
      "source": [
        "> Defina el *encoder* y las compuertas que utilizará: CuDNNGRU,CuDNNLSTM, RNN u otra. Puede utilizar redes bidireccionales en el *encoder* ¿Esto mejora el resultado?\n",
        "\n",
        "```python\n",
        "embedding_vector = 64 \n",
        "encoder_input = Input(shape=(max_input_lenght,))\n",
        "embedded = Embedding(input_dim=len(vocabQ_indices),output_dim=embedding_vector,input_length=max_input_lenght)(encoder_input)\n",
        "encoder = gate(hidden_dim, return_sequences=True)(embedded)\n",
        "```"
      ]
    },
    {
      "metadata": {
        "id": "viA93KQZFQld",
        "colab_type": "code",
        "colab": {}
      },
      "cell_type": "code",
      "source": [
        "embedding_vector = 64 \n",
        "encoder_input = Input(shape=(max_input_lenght,))\n",
        "embedded = Embedding(input_dim=len(vocabQ_indices),output_dim=embedding_vector,input_length=max_input_lenght)(encoder_input)\n",
        "encoder = CuDNNGRU(hidden_dim, activity_regularizer=regularizers.l2(0.01),return_sequences=True)(embedded)\n",
        "encoder = Dropout(0.5)(encoder)"
      ],
      "execution_count": 0,
      "outputs": []
    },
    {
      "metadata": {
        "id": "jHeFAdOWp7_d",
        "colab_type": "text"
      },
      "cell_type": "markdown",
      "source": [
        "> Defina la atención $\\alpha$ que se calculará sobre cada instante de tiempo $T$ computándo su atención en cada instante de tiempo de la decodificación $T'$.\n",
        "\n",
        "```python\n",
        "# compute T' importance for each step T\n",
        "attention = TimeDistributed(Dense(max_output_lenght, activation='tanh'))(encoder)\n",
        "#softmax a las antenciones sobre todo T\n",
        "attention = Permute([2, 1])(attention)\n",
        "attention = Activation('softmax')(attention) \n",
        "attention = Permute([2, 1])(attention)\n",
        "```"
      ]
    },
    {
      "metadata": {
        "id": "XlAXSfNsFQll",
        "colab_type": "code",
        "colab": {}
      },
      "cell_type": "code",
      "source": [
        "# compute T' importance for each step T\n",
        "attention = TimeDistributed(Dense(max_output_lenght, activation='tanh'))(encoder)\n",
        "#softmax a las antenciones sobre todo T\n",
        "attention = Permute([2, 1])(attention)\n",
        "attention = Activation('softmax')(attention) \n",
        "attention = Permute([2, 1])(attention)"
      ],
      "execution_count": 0,
      "outputs": []
    },
    {
      "metadata": {
        "id": "81MIrMcLp7_h",
        "colab_type": "text"
      },
      "cell_type": "markdown",
      "source": [
        "> Aplique la atención sobre el *encoder* y genere las salidas correspondientes.\n",
        "\n",
        "```python\n",
        "# apply the attention to encoder\n",
        "def attention_multiply(vects):\n",
        "    encoder, attention = vects\n",
        "    return K.batch_dot(attention,encoder, axes=1)\n",
        "sent_representation = Lambda(attention_multiply)([encoder, attention])\n",
        "decoder = gate(hidden_dim, return_sequences=True)(sent_representation)\n",
        "probabilities = TimeDistributed(Dense(len(vocab_answer), activation=\"softmax\"))(decoder)\n",
        "```"
      ]
    },
    {
      "metadata": {
        "id": "70X9mjNeFQlr",
        "colab_type": "code",
        "colab": {}
      },
      "cell_type": "code",
      "source": [
        "# apply the attention to encoder\n",
        "def attention_multiply(vects):\n",
        "    encoder, attention = vects\n",
        "    return K.batch_dot(attention,encoder, axes=1)\n",
        "sent_representation = Lambda(attention_multiply)([encoder, attention])\n",
        "decoder = CuDNNGRU(hidden_dim, return_sequences=True)(sent_representation)\n",
        "probabilities = TimeDistributed(Dense(len(vocab_answer), activation=\"softmax\"))(decoder)"
      ],
      "execution_count": 0,
      "outputs": []
    },
    {
      "metadata": {
        "id": "3avNhsSwp7_j",
        "colab_type": "text"
      },
      "cell_type": "markdown",
      "source": [
        "> Defina el modelo y descríbalo adecuadamente.\n",
        "\n",
        "```python\n",
        "model = Model(encoder_input,probabilities)\n",
        "model.compile(loss='sparse_categorical_crossentropy', optimizer='adam')\n",
        "model.summary()\n",
        "```"
      ]
    },
    {
      "metadata": {
        "id": "6rGCe8jKFQlv",
        "colab_type": "code",
        "colab": {
          "base_uri": "https://localhost:8080/",
          "height": 598
        },
        "outputId": "a22b17c2-7820-4ff5-9ec1-4b9468541c27"
      },
      "cell_type": "code",
      "source": [
        "model = Model(encoder_input,probabilities)\n",
        "model.compile(loss='sparse_categorical_crossentropy', optimizer='adam')\n",
        "model.summary()"
      ],
      "execution_count": 28,
      "outputs": [
        {
          "output_type": "stream",
          "text": [
            "__________________________________________________________________________________________________\n",
            "Layer (type)                    Output Shape         Param #     Connected to                     \n",
            "==================================================================================================\n",
            "input_1 (InputLayer)            (None, 59)           0                                            \n",
            "__________________________________________________________________________________________________\n",
            "embedding_1 (Embedding)         (None, 59, 64)       2691776     input_1[0][0]                    \n",
            "__________________________________________________________________________________________________\n",
            "cu_dnngru_1 (CuDNNGRU)          (None, 59, 128)      74496       embedding_1[0][0]                \n",
            "__________________________________________________________________________________________________\n",
            "dropout_1 (Dropout)             (None, 59, 128)      0           cu_dnngru_1[0][0]                \n",
            "__________________________________________________________________________________________________\n",
            "time_distributed_1 (TimeDistrib (None, 59, 47)       6063        dropout_1[0][0]                  \n",
            "__________________________________________________________________________________________________\n",
            "permute_1 (Permute)             (None, 47, 59)       0           time_distributed_1[0][0]         \n",
            "__________________________________________________________________________________________________\n",
            "activation_1 (Activation)       (None, 47, 59)       0           permute_1[0][0]                  \n",
            "__________________________________________________________________________________________________\n",
            "permute_2 (Permute)             (None, 59, 47)       0           activation_1[0][0]               \n",
            "__________________________________________________________________________________________________\n",
            "lambda_1 (Lambda)               (None, 47, 128)      0           dropout_1[0][0]                  \n",
            "                                                                 permute_2[0][0]                  \n",
            "__________________________________________________________________________________________________\n",
            "cu_dnngru_2 (CuDNNGRU)          (None, 47, 128)      99072       lambda_1[0][0]                   \n",
            "__________________________________________________________________________________________________\n",
            "time_distributed_2 (TimeDistrib (None, 47, 47423)    6117567     cu_dnngru_2[0][0]                \n",
            "==================================================================================================\n",
            "Total params: 8,988,974\n",
            "Trainable params: 8,988,974\n",
            "Non-trainable params: 0\n",
            "__________________________________________________________________________________________________\n"
          ],
          "name": "stdout"
        }
      ]
    },
    {
      "metadata": {
        "id": "Err_bK-A6ixd",
        "colab_type": "text"
      },
      "cell_type": "markdown",
      "source": [
        "Luego de variar la arquitectura en distinta ocasiones por la presencia de un fuerte *overfitting* en los primeros *epochs*, se opta por implementar un regularizador $l_2$ a la capa que actúa como encoder, además de un subsecuente *Dropout* para reducir el fecto anteriormente mencionado. En un principio se pensó utilizar las mismas técnicas para reducir *overfitting* sobre el decoder, sin embargo esto incrementaba en demasía el tiempo de entrenamiento, a la vez que no producía mejoras relevantes respecto a la perdida del modelo.\n",
        "\n",
        "Además, tanto para el encoder como el decoder se utilizan capas de tipo GRU, esto por la menor cantidad que parámetros entrenables que poseen. "
      ]
    },
    {
      "metadata": {
        "id": "EcqAsPgkp7_k",
        "colab_type": "text"
      },
      "cell_type": "markdown",
      "source": [
        "> f) Entrene el modelo por 10 *epochs* con el tamaño de batch que estime conveniente. Para ésto deberá redimensionar la salida para que tenga 3 dimensiones debido a la recurrencia.\n",
        "\n",
        "```python\n",
        "X_answers = X_answers.reshape(X_answers.shape[0],X_answers.shape[1],1)\n",
        "X_answers.shape\n",
        "model.fit(Xtrain_question,X_answers,epochs=10,batch_size=BS,validation_split=0.2)\n",
        "```\n",
        "*Por temas de recursos puede optar con entrenar con una muestra más pequeña del conjunto de entrenamiento*.\n"
      ]
    },
    {
      "metadata": {
        "id": "4H8ICHUYFQlz",
        "colab_type": "code",
        "colab": {
          "base_uri": "https://localhost:8080/",
          "height": 424
        },
        "outputId": "7c47a99e-4882-410b-ad12-e441f5e63c77"
      },
      "cell_type": "code",
      "source": [
        "X_answers = X_answers.reshape(X_answers.shape[0],X_answers.shape[1],1)\n",
        "X_answers.shape\n",
        "hist = model.fit(Xtrain_question,X_answers,epochs=10,batch_size=256,validation_split=0.2)\n"
      ],
      "execution_count": 29,
      "outputs": [
        {
          "output_type": "stream",
          "text": [
            "Train on 69456 samples, validate on 17365 samples\n",
            "Epoch 1/10\n",
            "69456/69456 [==============================] - 355s 5ms/step - loss: 2.1055 - val_loss: 0.9162\n",
            "Epoch 2/10\n",
            "69456/69456 [==============================] - 353s 5ms/step - loss: 0.8174 - val_loss: 0.8907\n",
            "Epoch 3/10\n",
            "69456/69456 [==============================] - 354s 5ms/step - loss: 0.7675 - val_loss: 0.8335\n",
            "Epoch 4/10\n",
            "69456/69456 [==============================] - 354s 5ms/step - loss: 0.7357 - val_loss: 0.8252\n",
            "Epoch 5/10\n",
            "69456/69456 [==============================] - 354s 5ms/step - loss: 0.7285 - val_loss: 0.8239\n",
            "Epoch 6/10\n",
            "69456/69456 [==============================] - 354s 5ms/step - loss: 0.7225 - val_loss: 0.8201\n",
            "Epoch 7/10\n",
            "69456/69456 [==============================] - 354s 5ms/step - loss: 0.7165 - val_loss: 0.8164\n",
            "Epoch 8/10\n",
            "69456/69456 [==============================] - 354s 5ms/step - loss: 0.7111 - val_loss: 0.8143\n",
            "Epoch 9/10\n",
            "69456/69456 [==============================] - 354s 5ms/step - loss: 0.7068 - val_loss: 0.8133\n",
            "Epoch 10/10\n",
            "69456/69456 [==============================] - 353s 5ms/step - loss: 0.7043 - val_loss: 0.8123\n"
          ],
          "name": "stdout"
        }
      ]
    },
    {
      "metadata": {
        "id": "LKPkb62gGcSy",
        "colab_type": "code",
        "colab": {
          "base_uri": "https://localhost:8080/",
          "height": 457
        },
        "outputId": "9aa84f04-78dc-4c6c-c1a1-96c2e69b0a30"
      },
      "cell_type": "code",
      "source": [
        "plt.figure(figsize=(14,7))\n",
        "plt.plot(hist.history['loss'])\n",
        "plt.plot(hist.history['val_loss'])\n",
        "plt.title('model loss')\n",
        "plt.ylabel('loss')\n",
        "plt.xlabel('epoch')\n",
        "plt.legend(['train', 'validation'], loc='upper left')\n",
        "plt.show()"
      ],
      "execution_count": 30,
      "outputs": [
        {
          "output_type": "display_data",
          "data": {
            "image/png": "[encoded data removed]",
            "text/plain": [
              "<matplotlib.figure.Figure at 0x7efc037994a8>"
            ]
          },
          "metadata": {
            "tags": []
          }
        }
      ]
    },
    {
      "metadata": {
        "id": "hKzM2fvN0P8I",
        "colab_type": "text"
      },
      "cell_type": "markdown",
      "source": [
        "Se entrenó tanto este modelo como el que sigue durante 25 *epochs* y en ambos se observó la tendencia al *overfitting*, revelado por un *val_loss* en crecimiento luego del *epoch* 10 u 11. Por esto, se decide entrenar la red solo por 10 *epochs* en ambos casos, donde parece existir un mínimo local del valor mencionado.\n",
        "\n",
        "En la gráfica de este modelo se observa que loss de entrenamiento disminuye hasta estancarse cerca del valor de $0.7$, mientras que el *val_loss* disminue tímidamente hasta las cercanías de $0.8$.\n",
        "\n",
        "Para comparar la calidad de los resultados obtenidos, se entrenará un modelo con una arquitectura equivalente, pero implementando una característica **bidireccional** en ambas **GRUs**."
      ]
    },
    {
      "metadata": {
        "id": "wdQoN6OhG7nn",
        "colab_type": "code",
        "colab": {
          "base_uri": "https://localhost:8080/",
          "height": 598
        },
        "outputId": "4b440b29-1407-4412-f4ac-99c5f3fb68f5"
      },
      "cell_type": "code",
      "source": [
        "encoder2 = Bidirectional(CuDNNLSTM(hidden_dim, activity_regularizer=regularizers.l2(0.01), return_sequences=True))(embedded)\n",
        "encoder2 = Dropout(0.5)(encoder2)\n",
        "# compute T' importance for each step T\n",
        "attention2 = TimeDistributed(Dense(max_output_lenght, activation='tanh'))(encoder2)\n",
        "#softmax a las antenciones sobre todo T\n",
        "attention2 = Permute([2, 1])(attention2)\n",
        "attention2 = Activation('softmax')(attention2) \n",
        "attention2 = Permute([2, 1])(attention2)\n",
        "sent_representation2 = Lambda(attention_multiply)([encoder2, attention2])\n",
        "decoder2 = CuDNNGRU(hidden_dim, return_sequences=True)(sent_representation2)\n",
        "probabilities2 = TimeDistributed(Dense(len(vocab_answer), activation=\"softmax\"))(decoder2)\n",
        "model2 = Model(encoder_input,probabilities2)\n",
        "model2.compile(loss='sparse_categorical_crossentropy', optimizer='adam')\n",
        "model2.summary()"
      ],
      "execution_count": 33,
      "outputs": [
        {
          "output_type": "stream",
          "text": [
            "__________________________________________________________________________________________________\n",
            "Layer (type)                    Output Shape         Param #     Connected to                     \n",
            "==================================================================================================\n",
            "input_1 (InputLayer)            (None, 59)           0                                            \n",
            "__________________________________________________________________________________________________\n",
            "embedding_1 (Embedding)         (None, 59, 64)       2691776     input_1[0][0]                    \n",
            "__________________________________________________________________________________________________\n",
            "bidirectional_2 (Bidirectional) (None, 59, 256)      198656      embedding_1[0][0]                \n",
            "__________________________________________________________________________________________________\n",
            "dropout_3 (Dropout)             (None, 59, 256)      0           bidirectional_2[0][0]            \n",
            "__________________________________________________________________________________________________\n",
            "time_distributed_5 (TimeDistrib (None, 59, 47)       12079       dropout_3[0][0]                  \n",
            "__________________________________________________________________________________________________\n",
            "permute_5 (Permute)             (None, 47, 59)       0           time_distributed_5[0][0]         \n",
            "__________________________________________________________________________________________________\n",
            "activation_3 (Activation)       (None, 47, 59)       0           permute_5[0][0]                  \n",
            "__________________________________________________________________________________________________\n",
            "permute_6 (Permute)             (None, 59, 47)       0           activation_3[0][0]               \n",
            "__________________________________________________________________________________________________\n",
            "lambda_3 (Lambda)               (None, 47, 256)      0           dropout_3[0][0]                  \n",
            "                                                                 permute_6[0][0]                  \n",
            "__________________________________________________________________________________________________\n",
            "cu_dnngru_4 (CuDNNGRU)          (None, 47, 128)      148224      lambda_3[0][0]                   \n",
            "__________________________________________________________________________________________________\n",
            "time_distributed_6 (TimeDistrib (None, 47, 47423)    6117567     cu_dnngru_4[0][0]                \n",
            "==================================================================================================\n",
            "Total params: 9,168,302\n",
            "Trainable params: 9,168,302\n",
            "Non-trainable params: 0\n",
            "__________________________________________________________________________________________________\n"
          ],
          "name": "stdout"
        }
      ]
    },
    {
      "metadata": {
        "id": "IzCKfDzS2HIN",
        "colab_type": "text"
      },
      "cell_type": "markdown",
      "source": [
        "Se observa un leve incremento en la cantidad de parámetros entrenable de la red."
      ]
    },
    {
      "metadata": {
        "id": "LxVGOsByIVYe",
        "colab_type": "code",
        "colab": {
          "base_uri": "https://localhost:8080/",
          "height": 424
        },
        "outputId": "016b810e-c727-427d-e223-2e2b490be5f3"
      },
      "cell_type": "code",
      "source": [
        "hist2 = model2.fit(Xtrain_question,X_answers,epochs=10,batch_size=256,validation_split=0.2)"
      ],
      "execution_count": 34,
      "outputs": [
        {
          "output_type": "stream",
          "text": [
            "Train on 69456 samples, validate on 17365 samples\n",
            "Epoch 1/10\n",
            "69456/69456 [==============================] - 360s 5ms/step - loss: 1.9988 - val_loss: 0.9097\n",
            "Epoch 2/10\n",
            "69456/69456 [==============================] - 361s 5ms/step - loss: 0.8136 - val_loss: 0.8879\n",
            "Epoch 3/10\n",
            "69456/69456 [==============================] - 361s 5ms/step - loss: 0.7645 - val_loss: 0.8293\n",
            "Epoch 4/10\n",
            "69456/69456 [==============================] - 361s 5ms/step - loss: 0.7340 - val_loss: 0.8215\n",
            "Epoch 5/10\n",
            "69456/69456 [==============================] - 361s 5ms/step - loss: 0.7271 - val_loss: 0.8193\n",
            "Epoch 6/10\n",
            "69456/69456 [==============================] - 361s 5ms/step - loss: 0.7210 - val_loss: 0.8170\n",
            "Epoch 7/10\n",
            "69456/69456 [==============================] - 361s 5ms/step - loss: 0.7149 - val_loss: 0.8133\n",
            "Epoch 8/10\n",
            "69456/69456 [==============================] - 361s 5ms/step - loss: 0.7095 - val_loss: 0.8116\n",
            "Epoch 9/10\n",
            "69456/69456 [==============================] - 361s 5ms/step - loss: 0.7058 - val_loss: 0.8123\n",
            "Epoch 10/10\n",
            "69456/69456 [==============================] - 361s 5ms/step - loss: 0.7033 - val_loss: 0.8098\n"
          ],
          "name": "stdout"
        }
      ]
    },
    {
      "metadata": {
        "id": "GZeCIdDEUTff",
        "colab_type": "code",
        "colab": {
          "base_uri": "https://localhost:8080/",
          "height": 457
        },
        "outputId": "840c1963-4cad-4c77-f13e-1e3fb768fcbd"
      },
      "cell_type": "code",
      "source": [
        "plt.figure(figsize=(14,7))\n",
        "plt.plot(hist2.history['loss'])\n",
        "plt.plot(hist2.history['val_loss'])\n",
        "plt.title('model loss')\n",
        "plt.ylabel('loss')\n",
        "plt.xlabel('epoch')\n",
        "plt.legend(['train', 'validation'], loc='upper left')\n",
        "plt.show()"
      ],
      "execution_count": 39,
      "outputs": [
        {
          "output_type": "display_data",
          "data": {
            "image/png": "[encoded data removed]",
            "text/plain": [
              "<matplotlib.figure.Figure at 0x7efbf589b208>"
            ]
          },
          "metadata": {
            "tags": []
          }
        }
      ]
    },
    {
      "metadata": {
        "id": "83mLgqSq204B",
        "colab_type": "text"
      },
      "cell_type": "markdown",
      "source": [
        "Se observa una leve mejor respecto de la contraparte **unidireccional**, en el valor de *loss* obtenido para el entrenamiento y validación, a costa de al rededor de un minuto extra de entrenamiento."
      ]
    },
    {
      "metadata": {
        "id": "R7m-N5r3p7_m",
        "colab_type": "text"
      },
      "cell_type": "markdown",
      "source": [
        "> g) Muestre ejemplos de la predicción del modelo, para ésto genere una función que prediga a través de la distribución de probabilidad de la salida, de la forma que estime conveniente, cada palabra en cada instante de tiempo.\n",
        "\n",
        "```python\n",
        "def predict_words(model,example,diversity=?):\n",
        "    #predict example\n",
        "n=10\n",
        "for i in range(n):\n",
        "    indexs = np.random.randint(0,len(Xtest_question))\n",
        "    example = Xtest_question[indexs]\n",
        "    indexes_answer = predict_words(model,example,0.85)\n",
        "    question = df_test[\"question\"][indexs]\n",
        "    print(\"Pregunta: \",question)\n",
        "    answer = \"\"\n",
        "    for index in indexes_answer:\n",
        "        if indices_vocabA[index]==\"#end\": # el final de la oracion\n",
        "            continue\n",
        "        else:\n",
        "            answer+=indices_vocabA[index]+\" \"\n",
        "    print(\"Respuesta: \",answer)\n",
        "print(\"Los ha predecido todos!\")\n",
        "```"
      ]
    },
    {
      "metadata": {
        "id": "LDsiIpTTD7sJ",
        "colab_type": "code",
        "colab": {}
      },
      "cell_type": "code",
      "source": [
        "def predict_words(model,example,diversity=0): #diversity: number between 0 and 1\n",
        "  \n",
        "  if diversity>1 or diversity<0:\n",
        "    return null\n",
        "  \n",
        "  output = model.predict(np.array([example]))\n",
        "  answer = []\n",
        "  nWords = output.shape[2]\n",
        "  \n",
        "  #flag = True\n",
        "  \n",
        "  for wordProbs in output[0]:\n",
        "    iWord=0\n",
        "    sortedIndexes = np.argsort(wordProbs)[::-1][:]\n",
        "    selected = sortedIndexes[0]\n",
        "    \n",
        "    #if flag:\n",
        "    #  print(selected)\n",
        "      \n",
        "    if diversity>0:\n",
        "      while choice([True, False], p=[diversity,1-diversity]):\n",
        "        selected = sortedIndexes[iWord]\n",
        "        if iWord == nWords-1:\n",
        "          break\n",
        "        iWord+=1\n",
        "        \n",
        "    answer.append(selected)\n",
        "    \n",
        "    #if flag:\n",
        "    #  print(selected)\n",
        "    \n",
        "    flag=False\n",
        "    \n",
        "  return answer"
      ],
      "execution_count": 0,
      "outputs": []
    },
    {
      "metadata": {
        "id": "CckETN_53rkk",
        "colab_type": "text"
      },
      "cell_type": "markdown",
      "source": [
        "La función definida predice la salida de una pregunta a partir de un modelo, donde esta está consituida por $47$ vectores representando posiciones de palabras en la respuesta, donde cada vector posee $47423$ componentes, representando la probabilidad de que la palabra del vocabulario correspondiente por codificación ocupe la posición en la respuesta. (Las dos dimensiones mencionada se encuentran encapsuladas en un vector, pero este no tiene relevancia para el análisis)\n",
        "\n",
        "A partir, de esta salida se ordenan los índices de cada vector de mayor a menor probabilidad, correspondiendo estos índices con el vocabulario de las respuestas. Luego, con el parámetro diversity, se puede decidir si descartar la palabra con mayor probabilidad y seleccionar la siguiente, esto según un lanzamiento de moneda cada vez.\n",
        "\n",
        "Finalmente, los índices seleccionados son guardados en un vector y retornados."
      ]
    },
    {
      "metadata": {
        "id": "79z61__VD9I2",
        "colab_type": "code",
        "colab": {
          "base_uri": "https://localhost:8080/",
          "height": 424
        },
        "outputId": "6d407936-609b-4ed0-a509-82471083b7f2"
      },
      "cell_type": "code",
      "source": [
        "n=10\n",
        "for i in range(n):\n",
        "    indexs = np.random.randint(0,len(Xtest_question))\n",
        "    example = Xtest_question[indexs]\n",
        "    indexes_answer = predict_words(model,example,0.5)\n",
        "    question = df_test[\"question\"][indexs]\n",
        "    print(\"Pregunta: \",question)\n",
        "    answer = \"\"\n",
        "    for index in indexes_answer:\n",
        "        if indices_vocabA[index]==\"#end\": # el final de la oracion\n",
        "            continue\n",
        "        else:\n",
        "            answer+=indices_vocabA[index]+\" \"\n",
        "    print(\"Respuesta: \",answer)\n",
        "print(\"Los ha predecido todos!\")"
      ],
      "execution_count": 59,
      "outputs": [
        {
          "output_type": "stream",
          "text": [
            "Pregunta:  What cultures were part of Kublai's administration?\n",
            "Respuesta:  the and the and the and and the . . of the , , . \n",
            "Pregunta:  If the head of government refuses to enforce a decision of the highest court what terminology could be used?\n",
            "Respuesta:  the the the , , , of , and the the . . the , \n",
            "Pregunta:  Who didn't Abercrombie replace as commander in chief?\n",
            "Respuesta:  a the the , , the the , the and the the . to , \n",
            "Pregunta:  To force Japan to be more involved in the crisis, what did Saudi and Kuwaiti government do?\n",
            "Respuesta:  the the and , , the the the . of the of \n",
            "Pregunta:  What sort of engines utilized the Yarrow-Schlick-Tweedy balancing system?\n",
            "Respuesta:  the , , the , and the the . the \n",
            "Pregunta:  What district of Warsaw chose the President between 1994 and 1999?\n",
            "Respuesta:  the , , , . the . the . \n",
            "Pregunta:  How does the TFEU revise old legislation?\n",
            "Respuesta:  the of the of the , and , the the . the \n",
            "Pregunta:  NSF helped the network enhance what?\n",
            "Respuesta:  the of of the . the , the \n",
            "Pregunta:  What year was the Treaty of Amsterdam created?\n",
            "Respuesta:  the to the , the and the the and and and the the \n",
            "Pregunta:  Who led the attack on Spain in 1565?\n",
            "Respuesta:  The , the , and the , , . the \n",
            "Los ha predecido todos!\n"
          ],
          "name": "stdout"
        }
      ]
    },
    {
      "metadata": {
        "id": "Bjnc5yQr3WIH",
        "colab_type": "text"
      },
      "cell_type": "markdown",
      "source": [
        "Lo anterior corresponde a las respuestas construídas a partir del modelo **unidireccional**, luego de lo que el notebook de Google Colab se desincronizó, perdiéndose los modelos entrenados.\n",
        "\n",
        "Se observa que el parámetro diversity $0.5$ le permite al modelo construir respuestas de largo variado, esto se contrasta respecto a lo obtenido si se elige la palabra con mayor probabilidad en cada caso, ya que esto ocasiona que la mayoría de las respuestas sean de largo de un caracter siendo este caracter *'the'*. De nuevo, no se muestra este escenario por problemas con Google Colab.\n",
        "\n",
        "Por estos problemas con la plataforma es que no se ejecuta una evaluación del modelo en el siguiente item, hasta este momento aún no existen GPUs disponibles para realizar el trabajo."
      ]
    },
    {
      "metadata": {
        "id": "e9wAaNopp7_n",
        "colab_type": "text"
      },
      "cell_type": "markdown",
      "source": [
        "> h) Evalúe la calidad de su modelo con la métrica del *benchmark*, para ésto deberá descargar el archivo **evaluation script** y el dato **dev json** de la página oficial del dataset: https://rajpurkar.github.io/SQuAD-explorer/ y ejecutarlo de la siguiente manera dentro del *Jupyter Notebook*\n",
        "\n",
        "```python\n",
        "#evaluar resultados\n",
        "!python evaluate-v2.0.py dev-v2.0.json predictions\n",
        "```"
      ]
    },
    {
      "metadata": {
        "id": "2cPcHuCVp7_o",
        "colab_type": "text"
      },
      "cell_type": "markdown",
      "source": [
        "> Para generar las predicciones utilice la función anteriormente definida de la siguiente manera:\n",
        "```python\n",
        "dic_predictions = {}\n",
        "for example,id_e in zip(Xtest_question,df_test[\"id\"]): #todos los ejemplos\n",
        "    indexes_answer = predict_words(model,example) #predice palabra en cada instante\n",
        "    answer = \"\"\n",
        "    for index in indexes_answer:\n",
        "        if indices_vocabA[index]==\"#end\": # el final de la oracion\n",
        "            continue\n",
        "        else:\n",
        "            answer+=indices_vocabA[index]+\" \"\n",
        "    dic_predictions[id_e] = answer\n",
        "    contador+=1\n",
        "print(\"Los ha predecido todos!\")\n",
        "json_save = json.dumps(dic_predictions)\n",
        "archivo = open(\"predictions\",\"w\")\n",
        "archivo.write(json_save)\n",
        "archivo.close()\n",
        "```\n",
        "Comente sobre el desempeño obtenido y a qué debiera deberse."
      ]
    },
    {
      "metadata": {
        "id": "su4A_kAn9HS_",
        "colab_type": "text"
      },
      "cell_type": "markdown",
      "source": [
        "Asumiendo un desempeño como el visto en las presentaciones ya que se tiene un resultado muy similar a estos, se puede atribuir la baja performance a la poca información con la que se alimenta la red, y a una pobre elección de vocabulario."
      ]
    },
    {
      "metadata": {
        "id": "FzQ4qSBDYFc8",
        "colab_type": "code",
        "colab": {}
      },
      "cell_type": "code",
      "source": [
        "dic_predictions = {}\n",
        "for example,id_e in tqdm(zip(Xtest_question,df_test[\"id\"])): #todos los ejemplos\n",
        "    indexes_answer = predict_words(model,example,0.85) #predice palabra en cada instante\n",
        "    answer = \"\"\n",
        "    for index in indexes_answer:\n",
        "        if indices_vocabA[index]==\"#end\": # el final de la oracion\n",
        "            continue\n",
        "        else:\n",
        "            answer+=indices_vocabA[index]+\" \"\n",
        "    dic_predictions[id_e] = answer\n",
        "    \n",
        "print(\"Los ha predecido todos!\")\n",
        "json_save = json.dumps(dic_predictions)\n",
        "archivo = open(\"predictions\",\"w\")\n",
        "archivo.write(json_save)\n",
        "archivo.close()"
      ],
      "execution_count": 0,
      "outputs": []
    },
    {
      "metadata": {
        "id": "ckHiU_yiYjI2",
        "colab_type": "code",
        "colab": {}
      },
      "cell_type": "code",
      "source": [
        "!python evaluate-v2.0.py dev-v2.0.json predictions"
      ],
      "execution_count": 0,
      "outputs": []
    },
    {
      "metadata": {
        "id": "wGHDMmDKp7_q",
        "colab_type": "text"
      },
      "cell_type": "markdown",
      "source": [
        "<a id=\"refs\"></a>\n",
        "## Referencias\n",
        "[1] Kingma, D. P., & Welling, M. (2013). *Auto-encoding variational bayes*. arXiv preprint arXiv:1312.6114.  \n",
        "[2] Dumoulin, V., & Visin, F. (2016). *A guide to convolution arithmetic for deep learning*. arXiv preprint arXiv:1603.07285.  \n",
        "[3] https://github.com/vdumoulin/conv_arithmetic  \n",
        "[4] Goodfellow, I., Pouget-Abadie, J., Mirza, M., Xu, B., Warde-Farley, D., Ozair, S., ... & Bengio, Y. (2014). *Generative adversarial nets*. In Advances in neural information processing systems (pp. 2672-2680).  \n",
        "[5] Joyce, J. M. (2011). *Kullback-leibler divergence*. In International Encyclopedia of Statistical Science (pp. 720-722). Springer Berlin Heidelberg.  \n",
        "[6] Chorowski, J. K., Bahdanau, D., Serdyuk, D., Cho, K., & Bengio, Y. (2015). *Attention-based models for speech recognition*. In Advances in neural information processing systems (pp. 577-585)."
      ]
    }
  ]
}